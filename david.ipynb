{
 "cells": [
  {
   "cell_type": "code",
   "execution_count": 14,
   "metadata": {
    "collapsed": false
   },
   "outputs": [
    {
     "name": "stdout",
     "output_type": "stream",
     "text": [
      "Populating the interactive namespace from numpy and matplotlib\n"
     ]
    }
   ],
   "source": [
    "%pylab inline --no-import-all"
   ]
  },
  {
   "cell_type": "markdown",
   "metadata": {},
   "source": [
    "Generate both a native list and a numpy array with a set number of random integers"
   ]
  },
  {
   "cell_type": "code",
   "execution_count": 15,
   "metadata": {
    "collapsed": true
   },
   "outputs": [],
   "source": [
    "def gen(N):\n",
    "    out_a = np.zeros(N).tolist()\n",
    "    out_b = np.zeros(N)\n",
    "    \n",
    "    i = 0\n",
    "    \n",
    "    while i < N:\n",
    "        out_a[i] = np.random.randint(0, 1024) # any maximum should work, but 1024 will do\n",
    "        out_b[i] = np.random.randint(0, 1024)\n",
    "        i += 1\n",
    "    \n",
    "    return out_a, out_b"
   ]
  },
  {
   "cell_type": "code",
   "execution_count": 16,
   "metadata": {
    "collapsed": false
   },
   "outputs": [
    {
     "data": {
      "text/plain": [
       "([660, 571, 153, 191, 787, 815, 794, 972, 248, 674],\n",
       " array([ 309.,  230.,  559.,  197.,  659.,   30.,  501.,  833.,  323.,    8.]))"
      ]
     },
     "execution_count": 16,
     "metadata": {},
     "output_type": "execute_result"
    }
   ],
   "source": [
    "A, B = gen(10)\n",
    "A, B"
   ]
  },
  {
   "cell_type": "markdown",
   "metadata": {},
   "source": [
    "$A$ is the native list of ints (assuming int64 since I'm running on a python3 instance)  \n",
    "$B$ is a numpy array of floats\n",
    "\n",
    "Now, use two methods to find the mean: natively and with numpy, just to compare the results"
   ]
  },
  {
   "cell_type": "code",
   "execution_count": 17,
   "metadata": {
    "collapsed": true
   },
   "outputs": [],
   "source": [
    "def mean(arr):\n",
    "    return sum(arr) / len(arr)"
   ]
  },
  {
   "cell_type": "code",
   "execution_count": 18,
   "metadata": {
    "collapsed": false
   },
   "outputs": [
    {
     "data": {
      "text/plain": [
       "(586.5, 364.89999999999998)"
      ]
     },
     "execution_count": 18,
     "metadata": {},
     "output_type": "execute_result"
    }
   ],
   "source": [
    "mu_native_a = mean(A)\n",
    "mu_native_b = mean(B)\n",
    "\n",
    "mu_native_a, mu_native_b"
   ]
  },
  {
   "cell_type": "code",
   "execution_count": 19,
   "metadata": {
    "collapsed": false
   },
   "outputs": [
    {
     "data": {
      "text/plain": [
       "(586.5, 364.89999999999998)"
      ]
     },
     "execution_count": 19,
     "metadata": {},
     "output_type": "execute_result"
    }
   ],
   "source": [
    "mu_np_a = np.mean(A)\n",
    "mu_np_b = np.mean(B)\n",
    "\n",
    "mu_np_a, mu_np_b"
   ]
  },
  {
   "cell_type": "markdown",
   "metadata": {},
   "source": [
    "It's obvious that NumPy converts a list into an array to compute the mean, so the result is a little different from the native mean function.\n",
    "\n",
    "Now define a sum of differences function $\\Sigma(x_i - \\bar{x})$ that runs for a given length (assuming that the length is not longer than the source array's length)."
   ]
  },
  {
   "cell_type": "code",
   "execution_count": 24,
   "metadata": {
    "collapsed": true
   },
   "outputs": [],
   "source": [
    "def diff_sum(arr, mu, l):\n",
    "    assert l <= len(arr), 'Array index out of bounds'\n",
    "\n",
    "    i = 0\n",
    "    s = 0\n",
    "    \n",
    "    while i < l:\n",
    "        s += arr[i] - mu\n",
    "        i += 1\n",
    "    \n",
    "    return s"
   ]
  },
  {
   "cell_type": "markdown",
   "metadata": {},
   "source": [
    "Run this function on $A$ using its native mean and NumPy mean. Choose a stepped length to demostrate the result after each sum."
   ]
  },
  {
   "cell_type": "code",
   "execution_count": 25,
   "metadata": {
    "collapsed": false
   },
   "outputs": [
    {
     "name": "stdout",
     "output_type": "stream",
     "text": [
      "Native--------\n",
      "73.5\n",
      "58.0\n",
      "-375.5\n",
      "-771.0\n",
      "-570.5\n",
      "-342.0\n",
      "-134.5\n",
      "251.0\n",
      "-87.5\n",
      "\n",
      "NumPy--------\n",
      "73.5\n",
      "58.0\n",
      "-375.5\n",
      "-771.0\n",
      "-570.5\n",
      "-342.0\n",
      "-134.5\n",
      "251.0\n",
      "-87.5\n"
     ]
    }
   ],
   "source": [
    "len_a = len(A)\n",
    "L     = 1\n",
    "\n",
    "print('Native--------')\n",
    "while L < len_a:\n",
    "    print(diff_sum(A, mu_native_a, L))\n",
    "    L += 1\n",
    "    \n",
    "print('\\nNumPy--------')\n",
    "L     = 1\n",
    "while L < len_a:\n",
    "    print(diff_sum(A, mu_np_a, L))\n",
    "    L += 1"
   ]
  },
  {
   "cell_type": "markdown",
   "metadata": {},
   "source": [
    "Now, run on $B$."
   ]
  },
  {
   "cell_type": "code",
   "execution_count": 26,
   "metadata": {
    "collapsed": false
   },
   "outputs": [
    {
     "name": "stdout",
     "output_type": "stream",
     "text": [
      "Native--------\n",
      "-55.9\n",
      "-190.8\n",
      "3.3\n",
      "-164.6\n",
      "129.5\n",
      "-205.4\n",
      "-69.3\n",
      "398.8\n",
      "356.9\n",
      "\n",
      "NumPy--------\n",
      "-55.9\n",
      "-190.8\n",
      "3.3\n",
      "-164.6\n",
      "129.5\n",
      "-205.4\n",
      "-69.3\n",
      "398.8\n",
      "356.9\n"
     ]
    }
   ],
   "source": [
    "len_b = len(B)\n",
    "L     = 1\n",
    "\n",
    "print('Native--------')\n",
    "while L < len_b:\n",
    "    print(diff_sum(B, mu_native_b, L))\n",
    "    L += 1\n",
    "    \n",
    "print('\\nNumPy--------')\n",
    "L     = 1\n",
    "while L < len_a:\n",
    "    print(diff_sum(B, mu_np_b, L))\n",
    "    L += 1"
   ]
  },
  {
   "cell_type": "code",
   "execution_count": null,
   "metadata": {
    "collapsed": true
   },
   "outputs": [],
   "source": []
  }
 ],
 "metadata": {
  "kernelspec": {
   "display_name": "Python [py3]",
   "language": "python",
   "name": "Python [py3]"
  },
  "language_info": {
   "codemirror_mode": {
    "name": "ipython",
    "version": 3
   },
   "file_extension": ".py",
   "mimetype": "text/x-python",
   "name": "python",
   "nbconvert_exporter": "python",
   "pygments_lexer": "ipython3",
   "version": "3.4.5"
  }
 },
 "nbformat": 4,
 "nbformat_minor": 0
}
