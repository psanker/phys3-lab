{
 "cells": [
  {
   "cell_type": "code",
   "execution_count": 1,
   "metadata": {
    "collapsed": false
   },
   "outputs": [
    {
     "name": "stdout",
     "output_type": "stream",
     "text": [
      "Populating the interactive namespace from numpy and matplotlib\n"
     ]
    }
   ],
   "source": [
    "%pylab notebook --no-import-all\n",
    "%matplotlib notebook\n",
    "from scipy import stats"
   ]
  },
  {
   "cell_type": "code",
   "execution_count": 3,
   "metadata": {
    "collapsed": false
   },
   "outputs": [],
   "source": [
    "# class Voter:\n",
    "#     def __init__(self, num_parties):\n",
    "#         self.schema = np.zeros(num_parties)\n",
    "        \n",
    "#     def vote()"
   ]
  },
  {
   "cell_type": "code",
   "execution_count": 37,
   "metadata": {
    "collapsed": false
   },
   "outputs": [],
   "source": [
    "import operator\n",
    "from numba import jit\n",
    "\n",
    "candidates = {'A':0.34593, 'B':0.38819, 'C':0.14528, 'D':0.05823, 'E':0.06237}\n",
    "\n",
    "@jit\n",
    "def sort_dict(a_dict):\n",
    "    return sorted(a_dict.items(), key=operator.itemgetter(1), reverse=True)\n",
    "\n",
    "def check_probabilites(d):\n",
    "    # the dictionary's identity should have already been checked\n",
    "    s = 0\n",
    "    for k, v in d:\n",
    "        s += v\n",
    "    \n",
    "    return s <= 1\n",
    "\n",
    "@jit\n",
    "def rezip_list(l):\n",
    "    d = {}\n",
    "    \n",
    "    for i in range(len(l)):\n",
    "        d[l[i][0]] = l[i][1]\n",
    "    \n",
    "    return d\n",
    "\n",
    "def pop_and_scale(d, key):\n",
    "    norm = 1 - d[key]\n",
    "    \n",
    "    del d[key]\n",
    "    \n",
    "    for (k,v) in d.items():\n",
    "        d[k] = v / norm\n",
    "    \n",
    "    return d\n",
    "\n",
    "@jit\n",
    "def vote_iterate(d, n):\n",
    "    if (type(d) is not dict):\n",
    "        raise Exception('Selected candidates is not a dictionary')\n",
    "        \n",
    "    if len(d) < n:\n",
    "        raise Exception('Not enough candidates for selection amount')\n",
    "    \n",
    "    ordered = sort_dict(d)\n",
    "    \n",
    "    if (not check_probabilites(ordered)):\n",
    "        raise Exception('Probabilities overflow normalization condition')\n",
    "    \n",
    "    i   = 0\n",
    "    out = []\n",
    "    \n",
    "    while i < n:\n",
    "        # first, pick a candidate based on uniform random dist compared to candidate probabilty weights\n",
    "        vote = np.random.random_sample(1)\n",
    "        \n",
    "        s = 0\n",
    "        selected = 'NOBODY'\n",
    "        \n",
    "        # find range where vote landed\n",
    "        for k, v in ordered:\n",
    "            s += v\n",
    "            \n",
    "            if s > vote:\n",
    "                selected = k\n",
    "                break\n",
    "                \n",
    "        # vote selected; reduce array and continue selection\n",
    "        out.append(selected)\n",
    "        ordered = sort_dict(pop_and_scale(rezip_list(ordered), selected))\n",
    "        i += 1\n",
    "    \n",
    "    return out\n",
    "        \n",
    "def build_sample(roster, n):\n",
    "    # run a sample based on n iterations of voting; TODO: include multiple voter types with different weights\n",
    "    # the roster is a list of all candidates in string form\n",
    "    \n",
    "    # init the vote tally\n",
    "    d = {}\n",
    "    \n",
    "    for i in range(len(roster)):\n",
    "        d[roster[i]] = 0\n",
    "    \n",
    "    for i in range(n):\n",
    "        votes = vote_iterate(candidates, 2) # magic numbers atm\n",
    "        \n",
    "        for j in range(len(votes)):\n",
    "            d[votes[j]] += 1\n",
    "    \n",
    "    return d"
   ]
  },
  {
   "cell_type": "code",
   "execution_count": 39,
   "metadata": {
    "collapsed": false
   },
   "outputs": [
    {
     "data": {
      "text/plain": [
       "{'A': 200901, 'B': 212645, 'C': 100049, 'D': 41784, 'E': 44621}"
      ]
     },
     "execution_count": 39,
     "metadata": {},
     "output_type": "execute_result"
    }
   ],
   "source": [
    "schema = ['A', 'B','C','D','E']\n",
    "\n",
    "build_sample(schema, 300000)"
   ]
  },
  {
   "cell_type": "code",
   "execution_count": null,
   "metadata": {
    "collapsed": true
   },
   "outputs": [],
   "source": []
  }
 ],
 "metadata": {
  "kernelspec": {
   "display_name": "Python [py3]",
   "language": "python",
   "name": "Python [py3]"
  },
  "language_info": {
   "codemirror_mode": {
    "name": "ipython",
    "version": 3
   },
   "file_extension": ".py",
   "mimetype": "text/x-python",
   "name": "python",
   "nbconvert_exporter": "python",
   "pygments_lexer": "ipython3",
   "version": "3.4.5"
  }
 },
 "nbformat": 4,
 "nbformat_minor": 0
}
