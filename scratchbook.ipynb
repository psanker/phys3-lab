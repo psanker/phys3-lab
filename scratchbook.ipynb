{
 "cells": [
  {
   "cell_type": "code",
   "execution_count": 1,
   "metadata": {
    "collapsed": false
   },
   "outputs": [
    {
     "name": "stdout",
     "output_type": "stream",
     "text": [
      "Populating the interactive namespace from numpy and matplotlib\n"
     ]
    }
   ],
   "source": [
    "%pylab notebook --no-import-all\n",
    "%matplotlib notebook\n",
    "from scipy import stats\n",
    "from astropy import units as u\n",
    "from astropy import constants as const\n",
    "from sympy import *\n",
    "import decimal as dec\n",
    "\n",
    "from scipy.optimize import curve_fit\n",
    "\n",
    "import psalib as pl\n",
    "\n",
    "init_printing(use_latex=True, use_unicode=True)"
   ]
  },
  {
   "cell_type": "code",
   "execution_count": 2,
   "metadata": {
    "collapsed": false
   },
   "outputs": [],
   "source": [
    "# constants\n",
    "PI     = np.pi\n",
    "TWO_PI = 2*PI\n",
    "\n",
    "kB   = const.k_B\n",
    "R    = const.R\n",
    "NA   = const.N_A\n",
    "G    = const.G\n",
    "g    = const.g0\n",
    "µ    = 1.317e25 * G\n",
    "R_E  = 6371 * 1000\n",
    "h    = const.h\n",
    "hbar = const.hbar\n",
    "c    = const.c\n",
    "m_e  = const.m_e\n",
    "m_n  = const.m_n\n",
    "m_p  = const.m_p\n",
    "R_H  = 2.18e-18 * u.J"
   ]
  },
  {
   "cell_type": "code",
   "execution_count": 30,
   "metadata": {
    "collapsed": false
   },
   "outputs": [
    {
     "data": {
      "text/latex": [
       "$2.8235294 \\; \\mathrm{cm}$"
      ],
      "text/plain": [
       "<Quantity 2.8235294117647065 cm>"
      ]
     },
     "execution_count": 30,
     "metadata": {},
     "output_type": "execute_result"
    }
   ],
   "source": [
    "hp = 3.40*u.cm\n",
    "h  = (8.00*u.mm).to(u.cm)\n",
    "sp = -12.0*u.cm\n",
    "\n",
    "s  = (-h*sp) / hp\n",
    "s"
   ]
  },
  {
   "cell_type": "code",
   "execution_count": 31,
   "metadata": {
    "collapsed": false
   },
   "outputs": [
    {
     "data": {
      "text/latex": [
       "$3.6923077 \\; \\mathrm{cm}$"
      ],
      "text/plain": [
       "<Quantity 3.6923076923076934 cm>"
      ]
     },
     "execution_count": 31,
     "metadata": {},
     "output_type": "execute_result"
    }
   ],
   "source": [
    "((1/s) + (1/sp))**(-1)"
   ]
  },
  {
   "cell_type": "code",
   "execution_count": 22,
   "metadata": {
    "collapsed": true
   },
   "outputs": [],
   "source": [
    "def lensmaker(r1, r2, s=18.0*u.cm, n=1.50):\n",
    "    foo = (n - 1)*(r1**(-1) - r2**(-1))\n",
    "    foo -= s**(-1)\n",
    "    return foo**(-1)"
   ]
  },
  {
   "cell_type": "code",
   "execution_count": 28,
   "metadata": {
    "collapsed": false
   },
   "outputs": [
    {
     "data": {
      "text/latex": [
       "$-13.846154 \\; \\mathrm{cm}$"
      ],
      "text/plain": [
       "<Quantity -13.846153846153847 cm>"
      ]
     },
     "execution_count": 28,
     "metadata": {},
     "output_type": "execute_result"
    }
   ],
   "source": [
    "lensmaker(-10.*u.cm, -15.0*u.cm)"
   ]
  },
  {
   "cell_type": "code",
   "execution_count": 29,
   "metadata": {
    "collapsed": false
   },
   "outputs": [
    {
     "data": {
      "text/latex": [
       "$-19 \\; \\mathrm{}$"
      ],
      "text/plain": [
       "<Quantity -19.0>"
      ]
     },
     "execution_count": 29,
     "metadata": {},
     "output_type": "execute_result"
    }
   ],
   "source": [
    "s2 = 9.00*u.cm\n",
    "l  = 180*u.cm\n",
    "\n",
    "(s2 - l) / s2"
   ]
  },
  {
   "cell_type": "code",
   "execution_count": 3,
   "metadata": {
    "collapsed": true
   },
   "outputs": [],
   "source": [
    "def map_one_to_one(string, mapping):\n",
    "    #  mapping: [in, out]\n",
    "    s = ''\n",
    "    \n",
    "    for i in range(len(string)):\n",
    "        if string[i] == mapping[0]:\n",
    "            s += mapping[1]\n",
    "        else:\n",
    "            s += string[i]\n",
    "    \n",
    "    return s"
   ]
  },
  {
   "cell_type": "code",
   "execution_count": 6,
   "metadata": {
    "collapsed": false
   },
   "outputs": [
    {
     "data": {
      "text/plain": [
       "'ttne msr jyge bcttk eg sjtzzro tuz bn zruk ttntjyb tk kgu bn btdmmnj hsntdgb'"
      ]
     },
     "execution_count": 6,
     "metadata": {},
     "output_type": "execute_result"
    }
   ],
   "source": [
    "source = 'PTNE MSR JYGE BCPPK EG SJPZZRO PUZ BN ZRUK PTNTJYB PK KGU BN BPDMMNJ HSNTDGB'\n",
    "# enigma maybe?\n",
    "\n",
    "source = source.lower()\n",
    "map_one_to_one(source, ['p', 't'])"
   ]
  },
  {
   "cell_type": "code",
   "execution_count": null,
   "metadata": {
    "collapsed": true
   },
   "outputs": [],
   "source": []
  }
 ],
 "metadata": {
  "anaconda-cloud": {},
  "kernelspec": {
   "display_name": "Python [py3]",
   "language": "python",
   "name": "Python [py3]"
  },
  "language_info": {
   "codemirror_mode": {
    "name": "ipython",
    "version": 3
   },
   "file_extension": ".py",
   "mimetype": "text/x-python",
   "name": "python",
   "nbconvert_exporter": "python",
   "pygments_lexer": "ipython3",
   "version": "3.4.5"
  }
 },
 "nbformat": 4,
 "nbformat_minor": 0
}
